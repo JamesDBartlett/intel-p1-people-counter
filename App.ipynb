{
 "cells": [
  {
   "cell_type": "code",
   "execution_count": 1,
   "metadata": {},
   "outputs": [
    {
     "name": "stdout",
     "output_type": "stream",
     "text": [
      "Collecting numpy\n",
      "\u001b[?25l  Downloading https://files.pythonhosted.org/packages/03/27/e35e7c6e6a52fab9fcc64fc2b20c6b516eba930bb02b10ace3b38200d3ab/numpy-1.18.4-cp36-cp36m-manylinux1_x86_64.whl (20.2MB)\n",
      "\u001b[K    100% |████████████████████████████████| 20.2MB 912kB/s eta 0:00:01  7% |██▌                             | 1.6MB 16.3MB/s eta 0:00:02    52% |█████████████████               | 10.7MB 29.4MB/s eta 0:00:01    80% |█████████████████████████▉      | 16.3MB 29.0MB/s eta 0:00:01    87% |████████████████████████████    | 17.7MB 25.5MB/s eta 0:00:01    94% |██████████████████████████████  | 19.0MB 24.3MB/s eta 0:00:01\n",
      "\u001b[?25hCollecting tqdm\n",
      "\u001b[?25l  Downloading https://files.pythonhosted.org/packages/c9/40/058b12e8ba10e35f89c9b1fdfc2d4c7f8c05947df2d5eb3c7b258019fda0/tqdm-4.46.0-py2.py3-none-any.whl (63kB)\n",
      "\u001b[K    100% |████████████████████████████████| 71kB 14.4MB/s ta 0:00:01\n",
      "\u001b[?25hCollecting requests\n",
      "\u001b[?25l  Downloading https://files.pythonhosted.org/packages/1a/70/1935c770cb3be6e3a8b78ced23d7e0f3b187f5cbfab4749523ed65d7c9b1/requests-2.23.0-py2.py3-none-any.whl (58kB)\n",
      "\u001b[K    100% |████████████████████████████████| 61kB 13.7MB/s ta 0:00:01\n",
      "\u001b[?25hCollecting pyyaml\n",
      "\u001b[?25l  Downloading https://files.pythonhosted.org/packages/64/c2/b80047c7ac2478f9501676c988a5411ed5572f35d1beff9cae07d321512c/PyYAML-5.3.1.tar.gz (269kB)\n",
      "\u001b[K    100% |████████████████████████████████| 276kB 19.9MB/s ta 0:00:01\n",
      "\u001b[?25hCollecting paho-mqtt\n",
      "\u001b[?25l  Downloading https://files.pythonhosted.org/packages/59/11/1dd5c70f0f27a88a3a05772cd95f6087ac479fac66d9c7752ee5e16ddbbc/paho-mqtt-1.5.0.tar.gz (99kB)\n",
      "\u001b[K    100% |████████████████████████████████| 102kB 16.7MB/s a 0:00:01\n",
      "\u001b[?25hCollecting urllib3!=1.25.0,!=1.25.1,<1.26,>=1.21.1 (from requests)\n",
      "\u001b[?25l  Downloading https://files.pythonhosted.org/packages/e1/e5/df302e8017440f111c11cc41a6b432838672f5a70aa29227bf58149dc72f/urllib3-1.25.9-py2.py3-none-any.whl (126kB)\n",
      "\u001b[K    100% |████████████████████████████████| 133kB 20.3MB/s ta 0:00:01\n",
      "\u001b[?25hCollecting certifi>=2017.4.17 (from requests)\n",
      "\u001b[?25l  Downloading https://files.pythonhosted.org/packages/57/2b/26e37a4b034800c960a00c4e1b3d9ca5d7014e983e6e729e33ea2f36426c/certifi-2020.4.5.1-py2.py3-none-any.whl (157kB)\n",
      "\u001b[K    100% |████████████████████████████████| 163kB 20.4MB/s ta 0:00:01\n",
      "\u001b[?25hCollecting idna<3,>=2.5 (from requests)\n",
      "\u001b[?25l  Downloading https://files.pythonhosted.org/packages/89/e3/afebe61c546d18fb1709a61bee788254b40e736cff7271c7de5de2dc4128/idna-2.9-py2.py3-none-any.whl (58kB)\n",
      "\u001b[K    100% |████████████████████████████████| 61kB 13.8MB/s ta 0:00:01\n",
      "\u001b[?25hCollecting chardet<4,>=3.0.2 (from requests)\n",
      "\u001b[?25l  Downloading https://files.pythonhosted.org/packages/bc/a9/01ffebfb562e4274b6487b4bb1ddec7ca55ec7510b22e4c51f14098443b8/chardet-3.0.4-py2.py3-none-any.whl (133kB)\n",
      "\u001b[K    100% |████████████████████████████████| 143kB 20.3MB/s ta 0:00:01\n",
      "\u001b[?25hBuilding wheels for collected packages: pyyaml, paho-mqtt\n",
      "  Running setup.py bdist_wheel for pyyaml ... \u001b[?25ldone\n",
      "\u001b[?25h  Stored in directory: /root/.cache/pip/wheels/a7/c1/ea/cf5bd31012e735dc1dfea3131a2d5eae7978b251083d6247bd\n",
      "  Running setup.py bdist_wheel for paho-mqtt ... \u001b[?25ldone\n",
      "\u001b[?25h  Stored in directory: /root/.cache/pip/wheels/02/94/6c/8474137cb7a5a3e001d70a22c8ff919caee69435376bccce79\n",
      "Successfully built pyyaml paho-mqtt\n",
      "\u001b[31mtensorflow 1.3.0 requires tensorflow-tensorboard<0.2.0,>=0.1.0, which is not installed.\u001b[0m\n",
      "\u001b[31mmoviepy 0.2.3.2 has requirement tqdm==4.11.2, but you'll have tqdm 4.46.0 which is incompatible.\u001b[0m\n",
      "\u001b[31mbotocore 1.12.7 has requirement urllib3<1.24,>=1.20, but you'll have urllib3 1.25.9 which is incompatible.\u001b[0m\n",
      "\u001b[31mawscli 1.16.17 has requirement PyYAML<=3.13,>=3.10, but you'll have pyyaml 5.3.1 which is incompatible.\u001b[0m\n",
      "Installing collected packages: numpy, tqdm, urllib3, certifi, idna, chardet, requests, pyyaml, paho-mqtt\n",
      "Successfully installed certifi-2020.4.5.1 chardet-3.0.4 idna-2.9 numpy-1.18.4 paho-mqtt-1.5.0 pyyaml-5.3.1 requests-2.23.0 tqdm-4.46.0 urllib3-1.25.9\n",
      "Installing Mosca...\n",
      "Mosca installed.\n",
      "Installing UI...\n",
      "UI installed.\n",
      "Starting Mosca Server...\n",
      "Mosca Server started.\n",
      "Starting GUI Service...\n",
      "GUI Service started.\n",
      "Starting FFmpeg Server...\n",
      "FFmpeg Server started.\n"
     ]
    }
   ],
   "source": [
    "!/bin/bash init-services.sh"
   ]
  },
  {
   "cell_type": "code",
   "execution_count": null,
   "metadata": {},
   "outputs": [],
   "source": [
    "python3 main.py -i resources/Pedestrian_Detect_2_1_1.mp4 \\\n",
    "    -m models/[openvino_ir]_mobilenet-ssd/mobilenet-ssd.xml \\\n",
    "    -l /opt/intel/openvino/deployment_tools/inference_engine/lib/intel64/libcpu_extension_sse4.so \\\n",
    "    -d CPU -pt 0.6 | ffmpeg -v warning -f rawvideo -pixel_format bgr24 -video_size 768x432 \\\n",
    "    -framerate 24 -i - http://0.0.0.0:3004/fac.ffm > /dev/null 2>&1"
   ]
  }
 ],
 "metadata": {
  "kernelspec": {
   "display_name": "Python 3",
   "language": "python",
   "name": "python3"
  },
  "language_info": {
   "codemirror_mode": {
    "name": "ipython",
    "version": 3
   },
   "file_extension": ".py",
   "mimetype": "text/x-python",
   "name": "python",
   "nbconvert_exporter": "python",
   "pygments_lexer": "ipython3",
   "version": "3.6.3"
  }
 },
 "nbformat": 4,
 "nbformat_minor": 4
}
